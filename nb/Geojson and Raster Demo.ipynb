{
 "cells": [
  {
   "cell_type": "code",
   "execution_count": 0,
   "metadata": {
    "autoscroll": "json-false",
    "collapsed": false,
    "ein.tags": [
     "worksheet-0"
    ]
   },
   "outputs": [],
   "source": [
    "pylab inline"
   ]
  },
  {
   "cell_type": "code",
   "execution_count": 0,
   "metadata": {
    "autoscroll": "json-false",
    "collapsed": false,
    "ein.tags": [
     "worksheet-0"
    ]
   },
   "outputs": [],
   "source": [
    "import os\n",
    "import json\n",
    "import rasterio\n",
    "import shapely.geometry\n",
    "from affine import Affine\n",
    "\n",
    "RASTER_FILE = os.path.join(\n",
    "    os.path.expanduser('~'), 'bh', 'data', 'satellite',\n",
    "    'SVDNB_npp_20140201-20140228_75N180W_vcmcfg_'\n",
    "    'v10_c201507201052.avg_rade9.tif'\n",
    ")\n",
    "COUNTIES_GEOJSON_FILE = os.path.join(\n",
    "    os.path.expanduser('~'), 'bh', 'data',\n",
    "    'us_counties_5m.json'\n",
    ")\n",
    "STATES_TEXT_FILE = os.path.join(\n",
    "    os.path.expanduser('~'), 'bh', 'data',\n",
    "    'state.txt'\n",
    ")\n"
   ]
  },
  {
   "cell_type": "markdown",
   "metadata": {
    "ein.tags": [
     "worksheet-0"
    ]
   },
   "source": [
    "The geojson file for us counties is just regular json file. It happens to have\n",
    "a non-`utf8` encoding (`latin-1`), so to read it we need to specify the encoding\n",
    "in our call to `json.load`.\n",
    "\n",
    "We obtained our geojson from [Eric Celeste](http://eric.clst.org/Stuff/USGeoJSON)'s\n",
    "awesome website. We use the `5m` counties file, which is geojson for U.S. counties\n",
    "at a resoution of 5 million inches. You can find more information about geojson\n",
    "and shapefiles\n",
    "[here](http://chimera.labs.oreilly.com/books/1230000000345/ch12.html#_choose_a_resolution).\n",
    "\n",
    "\n",
    "In the geojson, the `STATE` property attached to each county is a number rather than a\n",
    "name. So to convert to readable states, we need to be able to translate these integer codes\n",
    "to states. It's actually pretty hard to find a reference on what this mapping is, but it turns\n",
    "out this [census.gov](http://www2.census.gov/geo/docs/reference/state.txt) resource has\n",
    "everything we need, in a pipe-separated file we can read using `pandas`.\n"
   ]
  },
  {
   "cell_type": "code",
   "execution_count": 0,
   "metadata": {
    "autoscroll": "json-false",
    "collapsed": false,
    "ein.tags": [
     "worksheet-0"
    ]
   },
   "outputs": [],
   "source": [
    "with open(COUNTIES_GEOJSON_FILE, 'r') as f:\n",
    "    counties_raw_geojson = json.load(f, 'latin-1')\n",
    "\n",
    "states_df = pd.read_csv(STATES_TEXT_FILE, sep='|').set_index('STATE')\n",
    "# here we're selecting just the state names column from the indexed DataFrame, so that\n",
    "# later in the code we can use it as if it were a dict\n",
    "states = states_df['STATE_NAME']\n"
   ]
  },
  {
   "cell_type": "markdown",
   "metadata": {
    "ein.tags": [
     "worksheet-0"
    ]
   },
   "source": [
    "This top-level geojson object is a `dict` with two keys:\n",
    "* `type`, which specifies that this is a `FeatureCollection`, and\n",
    "* `features`, which is a json array of geojson objects for each county.\n",
    "\n",
    "Since we want to be able to look up counties by name, we'll rearrange this\n",
    "into a dictionary with county names as keys and the geojson objects for each\n",
    "county as values, by looking up the `properties.NAME` and `properties.STATE`\n",
    "key in each county's geojson object (it is important to use the state as well as\n",
    "name because several states have counties with the same name).\n",
    "\n",
    "Note that since there are unicode characters in some counties' names, we\n",
    "have to make sure there's a `u` in front of the formatting string we use,\n",
    "otherwise we get an ascii error.\n"
   ]
  },
  {
   "cell_type": "code",
   "execution_count": 0,
   "metadata": {
    "autoscroll": "json-false",
    "collapsed": false,
    "ein.tags": [
     "worksheet-0"
    ]
   },
   "outputs": [],
   "source": [
    "def get_county_name_from_geo_obj(geo_obj):\n",
    "    \"\"\"\n",
    "    Use the NAME and STATE properties of a county's geojson\n",
    "    object to get a name \"state: county\" for that county.\n",
    "    \"\"\"\n",
    "    return u'{state}: {county}'.format(\n",
    "        state=states[int(geo_obj['properties']['STATE'])],\n",
    "        county=geo_obj['properties']['NAME']\n",
    "    )\n",
    "\n",
    "print states.index\n",
    "counties_geojson = {\n",
    "    get_county_name_from_geo_obj(county_geojson): county_geojson\n",
    "    for county_geojson in counties_raw_geojson['features']\n",
    "}\n",
    "\n",
    "print len(counties_geojson)\n",
    "print sorted(counties_geojson.keys())[:10]\n"
   ]
  },
  {
   "cell_type": "markdown",
   "metadata": {
    "ein.tags": [
     "worksheet-0"
    ]
   },
   "source": [
    "These geojson objects contain a `properties` subobject with metadata\n",
    "about each county, and a `geometry` object describing the shape of each\n",
    "county. Python's `shapely` package has tools for working with these.\n",
    "\n",
    "If you hand the `geometry` dictionary to `shapely.geometry.shape`, you get back\n",
    "a `MultiPolygon` object that knows how to describe itself. As an extra bonus, it\n",
    "knows how to display itself in an ipython notebook. Let's take a look at\n",
    "Manhattan (which is New York county of New York state):\n"
   ]
  },
  {
   "cell_type": "code",
   "execution_count": 0,
   "metadata": {
    "autoscroll": "json-false",
    "collapsed": false,
    "ein.tags": [
     "worksheet-0"
    ]
   },
   "outputs": [],
   "source": [
    "ny_shape = shapely.geometry.shape(counties_geojson['New York: New York']['geometry'])\n",
    "print '%r' % ny_shape\n",
    "ny_shape\n"
   ]
  },
  {
   "cell_type": "markdown",
   "metadata": {
    "ein.tags": [
     "worksheet-0"
    ]
   },
   "source": [
    "Now we're ready to combine our county geojson with raster data. We'll use the\n",
    "`rasterio` package to work with the `.tif` files we pulled from the noaa.gov website.\n"
   ]
  },
  {
   "cell_type": "code",
   "execution_count": 0,
   "metadata": {
    "autoscroll": "json-false",
    "collapsed": false,
    "ein.tags": [
     "worksheet-0"
    ]
   },
   "outputs": [],
   "source": [
    "raster_file = rasterio.open(RASTER_FILE, 'r')\n"
   ]
  },
  {
   "cell_type": "code",
   "execution_count": 0,
   "metadata": {
    "autoscroll": "json-false",
    "collapsed": false,
    "ein.tags": [
     "worksheet-0"
    ]
   },
   "outputs": [],
   "source": []
  },
  {
   "cell_type": "markdown",
   "metadata": {
    "ein.tags": [
     "worksheet-0"
    ]
   },
   "source": [
    "A rasterio file lets you index raster image data as an array of pixels. The\n",
    "data files are pretty large, but they allow indexing into small slices. Furthermore,\n",
    "raster files include metadata indicating an affine mapping between pixels and\n",
    "latitude / longitude coordinates.\n",
    "\n",
    "Let's try doing this for New York county. We can get the longitude and latitude\n",
    "bounds of the smallest rectangle containing the whole county by using the\n",
    "`bounds` property of the `shapely.geometry.MultiPolygon` instance:\n"
   ]
  },
  {
   "cell_type": "code",
   "execution_count": 0,
   "metadata": {
    "autoscroll": "json-false",
    "collapsed": false,
    "ein.tags": [
     "worksheet-0"
    ]
   },
   "outputs": [],
   "source": [
    "ny_shape.bounds\n"
   ]
  },
  {
   "cell_type": "markdown",
   "metadata": {
    "ein.tags": [
     "worksheet-0"
    ]
   },
   "source": [
    "Next, we can use the `index` method of the rasterio file, which accepts\n",
    "`(latitude, longitude)` coordinates and returns `(row, col)` indices for\n",
    "the corresponding pixels. This tells us which part of the raster file we\n",
    "want to slice into:\n"
   ]
  },
  {
   "cell_type": "code",
   "execution_count": 0,
   "metadata": {
    "autoscroll": "json-false",
    "collapsed": false,
    "ein.tags": [
     "worksheet-0"
    ]
   },
   "outputs": [],
   "source": [
    "left, bottom = raster_file.index(*ny_shape.bounds[0:2])\n",
    "right, top = raster_file.index(*ny_shape.bounds[2:4])\n",
    "raster_window = ((left, right), (top, bottom))\n",
    "raster_window\n"
   ]
  },
  {
   "cell_type": "markdown",
   "metadata": {
    "ein.tags": [
     "worksheet-0"
    ]
   },
   "source": [
    "Note that we xused `(top, bottom)` rather than `(bottom, top)`. The\n",
    "reason, which we will see in more detail later, is that this raster\n",
    "file orders pixels in reverse order of lattitude.\n",
    "\n",
    "Now we're ready to load the pixels themselves. To do this we just\n",
    "pass the window to the `read` method of the raster file, which returns\n",
    "a numpy float-32 array of pixel intensities. We specify `indexes=1` so\n",
    "that we'll get a 2d array rather than a 2d array with size 1 - this is\n",
    "related to more advanced features of the rasterio api that we won't be\n",
    "using here.\n"
   ]
  },
  {
   "cell_type": "code",
   "execution_count": 0,
   "metadata": {
    "autoscroll": "json-false",
    "collapsed": false,
    "ein.tags": [
     "worksheet-0"
    ]
   },
   "outputs": [],
   "source": [
    "raster_array = raster_file.read(indexes=1, window=raster_window)\n",
    "raster_array\n",
    "(raster_array < 0).mean()\n",
    "raster_array.shape\n"
   ]
  },
  {
   "cell_type": "markdown",
   "metadata": {
    "ein.tags": [
     "worksheet-0"
    ]
   },
   "source": [
    "We can plot the array using an image plot to see what the light\n",
    "distribution looks like. Remember that because this is a bounding box\n",
    "and manhattan isn't a rectangle, our plot will include light originating from\n",
    "outside of New York County.\n"
   ]
  },
  {
   "cell_type": "code",
   "execution_count": 0,
   "metadata": {
    "autoscroll": "json-false",
    "collapsed": false,
    "ein.tags": [
     "worksheet-0"
    ]
   },
   "outputs": [],
   "source": [
    "from matplotlib import pyplot as plt\n",
    "plt.imshow(raster_array)\n",
    "plt.show()\n"
   ]
  },
  {
   "cell_type": "markdown",
   "metadata": {
    "ein.tags": [
     "worksheet-0"
    ]
   },
   "source": [
    "This is pretty cool, but how can we isolate manhattan?\n",
    "\n",
    "To do so, we'll need to use some more functionality from `shapely`, but we'll\n",
    "also need to adjust the rasterio file's affine mapping to properly map into\n",
    "the slice of data we are using for our bounding box.\n",
    "\n",
    "To understand how to do this, we need to think about how rasterio represents\n",
    "the mapping between latitude and longitude vs pixels. The `affine` property\n",
    "of the raster file is an `Affine` object:\n",
    "In \n"
   ]
  },
  {
   "cell_type": "code",
   "execution_count": 0,
   "metadata": {
    "autoscroll": "json-false",
    "collapsed": false,
    "ein.tags": [
     "worksheet-0"
    ]
   },
   "outputs": [],
   "source": [
    "raster_file.affine\n"
   ]
  },
  {
   "cell_type": "markdown",
   "metadata": {
    "ein.tags": [
     "worksheet-0"
    ]
   },
   "source": [
    "An\n",
    "```\n",
    "Affine(a, b, c,\n",
    "       d, e, f)\n",
    "```\n",
    "instance represents a 2d\n",
    "transformation of the form\n",
    "\\[\n",
    "  \\begin{pmat} x' \\\\ y' \\\\ 1 \\end{pmat}\n",
    "  =\n",
    "  \\begin{pmat}\n",
    "    a & b & c \\\\\n",
    "    d & e & f \\\\\n",
    "    0 & 0 & 1 \\\\\n",
    "  \\end{pmat}\n",
    "  \\begin{pmat} x \\\\ y \\\\ 1 \\end{pmat}.\n",
    "\\]\n",
    "\n",
    "In the context of a rasterio file, the original coordinates\n",
    "$x$ and $y$ represent rows and columns for the pixel array,\n",
    "and the affine map $x'$ and $y'$ represent the latitude and\n",
    "longitude.\n",
    "\n",
    "In the case of our image, it is aligned perfectly with the\n",
    "equator, which is why `b` and `d` are zero. The `a` and `c`\n",
    "coordinates are giving the scalings for latitude and longitude\n",
    "(the negative `c` means we index top to bottom), while\n",
    "`c\n",
    "\n",
    "\n"
   ]
  },
  {
   "cell_type": "code",
   "execution_count": 0,
   "metadata": {
    "autoscroll": "json-false",
    "collapsed": false,
    "ein.tags": [
     "worksheet-0"
    ]
   },
   "outputs": [],
   "source": [
    "rfa = raster_file.affine\n",
    "\n",
    "ny_affine = Affine(\n",
    "  rfa.a, rfa.b,\n",
    "  rfa.c + left * rfa.a,\n",
    "  raster.t.d, t.e, t.f+br[0]*t.e)\n"
   ]
  }
 ],
 "metadata": {
  "kernelspec": {
   "display_name": "Python 2",
   "name": "python2"
  },
  "language_info": {
   "codemirror_mode": {
    "name": "ipython",
    "version": 2
   },
   "file_extension": ".py",
   "mimetype": "text/x-python",
   "name": "python",
   "nbconvert_exporter": "python",
   "pygments_lexer": "ipython2",
   "version": "2.7.11"
  },
  "name": "Geojson and Raster Demo.ipynb"
 },
 "nbformat": 4,
 "nbformat_minor": 0
}