{
 "cells": [
  {
   "cell_type": "markdown",
   "metadata": {},
   "source": [
    "This section of the tutorial shows how to combine light image data from the NOAA VIIRS website and GeoJSON information using the packages `shapely` and `rasterio`.  \n",
    "\n",
    "GeoJSON files contain polygons to describe geographical regions such as counties and states, so we combine this information together with the raw pixel arrays in the downloaded tifs from the NOAA to create masks with light data for a specific county of interest."
   ]
  },
  {
   "cell_type": "code",
   "execution_count": 0,
   "metadata": {
    "autoscroll": "json-false",
    "collapsed": false,
    "ein.tags": [
     "worksheet-0"
    ]
   },
   "outputs": [],
   "source": [
    "%pylab inline"
   ]
  },
  {
   "cell_type": "markdown",
   "metadata": {},
   "source": [
    "First, we import the needed packages and specify the paths for the files."
   ]
  },
  {
   "cell_type": "code",
   "execution_count": 0,
   "metadata": {
    "autoscroll": "json-false",
    "collapsed": false,
    "ein.tags": [
     "worksheet-0"
    ]
   },
   "outputs": [],
   "source": [
    "import os\n",
    "import json\n",
    "import rasterio\n",
    "import rasterio.features\n",
    "import shapely.geometry\n",
    "from affine import Affine\n",
    "\n",
    "RASTER_FILE = os.path.join(\n",
    "    os.path.expanduser('~'), 'bh', 'data', 'satellite',\n",
    "    'SVDNB_npp_20140201-20140228_75N180W_vcmcfg_'\n",
    "    'v10_c201507201052.avg_rade9.tif'\n",
    ")\n",
    "raster_file = rasterio.open(RASTER_FILE, 'r')\n",
    "\n",
    "COUNTIES_GEOJSON_FILE = os.path.join(\n",
    "    os.path.expanduser('~'), 'bh', 'data',\n",
    "    'us_counties_5m.json'\n",
    ")\n",
    "STATES_TEXT_FILE = os.path.join(\n",
    "    os.path.expanduser('~'), 'bh', 'data',\n",
    "    'state.txt'\n",
    ")\n"
   ]
  },
  {
   "cell_type": "markdown",
   "metadata": {
    "ein.tags": [
     "worksheet-0"
    ]
   },
   "source": [
    "We obtained a US counties GeoJSON file from [Eric Celeste](http://eric.clst.org/Stuff/USGeoJSON)'s website, which is in `latin-1` encoding. We use the `5m` counties file (resolution of 5 million inches). You can find more information about geojson and shapefiles [here](http://chimera.labs.oreilly.com/books/123000000034/ch12.html#_choose_a_resolution).\n",
    "\n",
    "In the GeoJSON, the `STATE` property attached to each county is encoded as an integer. We use the reference file from [census.gov](http://www2.census.gov/geo/docs/reference/state.txt) to create a mapping `states` from state codes to state names."
   ]
  },
  {
   "cell_type": "code",
   "execution_count": 0,
   "metadata": {
    "autoscroll": "json-false",
    "collapsed": false,
    "ein.tags": [
     "worksheet-0"
    ]
   },
   "outputs": [],
   "source": [
    "with open(COUNTIES_GEOJSON_FILE, 'r') as f:\n",
    "    counties_raw_geojson = json.load(f, 'latin-1')\n",
    "\n",
    "states_df = pd.read_csv(STATES_TEXT_FILE, sep='|').set_index('STATE')\n",
    "states = states_df['STATE_NAME']\n"
   ]
  },
  {
   "cell_type": "markdown",
   "metadata": {
    "ein.tags": [
     "worksheet-0"
    ]
   },
   "source": [
    "This top-level geojson object is a `dict` with two keys:\n",
    "* `type`, which specifies that this is a `FeatureCollection`, and\n",
    "* `features`, which is a json array of geojson objects for each county.\n",
    "\n",
    "Since we want to be able to look up counties by name, we rearrange this\n",
    "with county names as keys and the geojson objects for each\n",
    "county as values, by looking up the `properties.NAME` and `properties.STATE`\n",
    "key in each county's GeoJSON object. It is important to use the state as well as\n",
    "name because several states have counties with the same name.\n",
    "\n",
    "Note that since there are unicode characters in some county names, we\n",
    "use `u` in front of the formatting string to avoid ASCII errors.\n"
   ]
  },
  {
   "cell_type": "code",
   "execution_count": 0,
   "metadata": {
    "autoscroll": "json-false",
    "collapsed": false,
    "ein.tags": [
     "worksheet-0"
    ]
   },
   "outputs": [],
   "source": [
    "def get_county_name_from_geo_obj(geo_obj):\n",
    "    \"\"\"\n",
    "    Use the NAME and STATE properties of a county's geojson\n",
    "    object to get a name \"state: county\" for that county.\n",
    "    \"\"\"\n",
    "    return u'{state}: {county}'.format(\n",
    "        state=states[int(geo_obj['properties']['STATE'])],\n",
    "        county=geo_obj['properties']['NAME']\n",
    "    )\n",
    "\n",
    "counties_geojson = {\n",
    "    get_county_name_from_geo_obj(county_geojson): county_geojson\n",
    "    for county_geojson in counties_raw_geojson['features']\n",
    "}\n",
    "\n",
    "print sorted(counties_geojson.keys())[:10]\n"
   ]
  },
  {
   "cell_type": "markdown",
   "metadata": {},
   "source": [
    "We use the `rasterio` library to work with the satellite data, and the `shapely` library to align the raster data with information from the GeoJSON.\n",
    "\n",
    "Let's take a look at Manhattan. To get a `shapely.geometry.MultiPolygon` object from a GeoJSON dictionary, we use the `shapely.geometry.shape` function."
   ]
  },
  {
   "cell_type": "code",
   "execution_count": 0,
   "metadata": {
    "autoscroll": "json-false",
    "collapsed": false,
    "ein.tags": [
     "worksheet-0"
    ]
   },
   "outputs": [],
   "source": [
    "ny_shape = shapely.geometry.shape(counties_geojson['New York: New York']['geometry'])\n",
    "print '%r' % ny_shape\n",
    "ny_shape\n"
   ]
  },
  {
   "cell_type": "markdown",
   "metadata": {
    "ein.tags": [
     "worksheet-0"
    ]
   },
   "source": [
    "To find the smallest rectangular region containing Manhattan that we can use to slice into the raster file, we first get the longitude and latitude bounds  using the `bounds` property of the `shapely.geometry.MultiPolygon` instance. \n",
    "This returns `(lon_min, lat_min, lon_max, lat_max)` coordinates:\n"
   ]
  },
  {
   "cell_type": "code",
   "execution_count": 0,
   "metadata": {
    "autoscroll": "json-false",
    "collapsed": false,
    "ein.tags": [
     "worksheet-0"
    ]
   },
   "outputs": [],
   "source": [
    "lon_min, lat_min, lon_max, lat_max = ny_shape.bounds\n",
    "print lon_min, lat_min, lon_max, lat_max\n"
   ]
  },
  {
   "cell_type": "markdown",
   "metadata": {
    "ein.tags": [
     "worksheet-0"
    ]
   },
   "source": [
    "Next, we convert the longitude and latitude bounds into array indices using the `index` method of the rasterio file. This method accepts `(longitude, latitude)` coordinates and returns `(row, col)` indices for the corresponding pixels.\n",
    "In the raster file, rows correspond to latitude and columns to longitude (the opposite order of the input).\n"
   ]
  },
  {
   "cell_type": "code",
   "execution_count": 0,
   "metadata": {
    "autoscroll": "json-false",
    "collapsed": false,
    "ein.tags": [
     "worksheet-0"
    ]
   },
   "outputs": [],
   "source": [
    "bottom, left = raster_file.index(lon_min, lat_min)\n",
    "top, right = raster_file.index(lon_max, lat_max)\n",
    "\n",
    "raster_window = ((top, bottom+1), (left, right+1))\n",
    "raster_window\n"
   ]
  },
  {
   "cell_type": "markdown",
   "metadata": {
    "ein.tags": [
     "worksheet-0"
    ]
   },
   "source": [
    "Note that we used `(top, bottom)` rather than `(bottom, top)`. This corresponds to the order of the pixels in the satellite data.\n",
    "\n",
    "To load the pixel values, we pass the window to the `read` method of the raster file, which returns\n",
    "a numpy float-32 array of intensities. We specify `indexes=1` to get a 2D array (rather than a 3D array with size 1).\n"
   ]
  },
  {
   "cell_type": "code",
   "execution_count": 0,
   "metadata": {
    "autoscroll": "json-false",
    "collapsed": false,
    "ein.tags": [
     "worksheet-0"
    ]
   },
   "outputs": [],
   "source": [
    "ny_raster_array = raster_file.read(indexes=1, window=raster_window)\n",
    "ny_raster_array.shape\n"
   ]
  },
  {
   "cell_type": "markdown",
   "metadata": {
    "ein.tags": [
     "worksheet-0"
    ]
   },
   "source": [
    "We can now plot our data using `imshow` to see Manhattan's beautiful night lights:\n"
   ]
  },
  {
   "cell_type": "code",
   "execution_count": 0,
   "metadata": {
    "autoscroll": "json-false",
    "collapsed": false,
    "ein.tags": [
     "worksheet-0"
    ]
   },
   "outputs": [],
   "source": [
    "from matplotlib import pyplot as plt\n",
    "plt.imshow(ny_raster_array)\n",
    "plt.show()\n"
   ]
  },
  {
   "cell_type": "markdown",
   "metadata": {
    "ein.tags": [
     "worksheet-0"
    ]
   },
   "source": [
    "This is pretty cool, but we see a lot of light from outside Manhattan,\n",
    "because the entire bounding box shows up in our data. How can we isolate just the data in Manhattan? To accomplish this, we'll need to think a little more about how `rasterio` represents the mapping between latitude and longitude to pixels. \n",
    "\n",
    "Let's look at the `affine` property of the raster file.\n"
   ]
  },
  {
   "cell_type": "code",
   "execution_count": 0,
   "metadata": {
    "autoscroll": "json-false",
    "collapsed": false,
    "ein.tags": [
     "worksheet-0"
    ]
   },
   "outputs": [],
   "source": [
    "raster_file.affine\n"
   ]
  },
  {
   "cell_type": "markdown",
   "metadata": {
    "ein.tags": [
     "worksheet-0"
    ]
   },
   "source": [
    "An\n",
    "```\n",
    "Affine(a, b, c,\n",
    "       d, e, f)\n",
    "```\n",
    "instance represents a 2d\n",
    "transformation of the form\n",
    "$$\n",
    "\\begin{pmatrix} x' \\\\ y' \\\\ 1 \\end{pmatrix}\n",
    "=\n",
    "\\begin{pmatrix}\n",
    "a && b && c \\\\\n",
    "d && e && f \\\\\n",
    "0 && 0 && 1\n",
    "\\end{pmatrix}\n",
    "\\begin{pmatrix} x \\\\ y \\\\ 1 \\end{pmatrix}.\n",
    "$$\n",
    "\n",
    "In the context of a `rasterio` file, the original coordinates $x$ and $y$\n",
    "represent columns and rows for the pixel array, and $x'$ and $y'$\n",
    "represent the latitude and longitude.\n",
    "\n",
    "The `b` and `d` entries are zero because our image is aligned with the equator\n",
    "and prime meridian. The `a` and `e` coordinates give scalings for\n",
    "latitude and longitude (the negative `e` means we index top to bottom, as we saw\n",
    "earlier), while `c` and `f` give the top-left corner (minimum longitude and\n",
    "maximum latitude) of the image.\n",
    "\n",
    "We adjust `c` and `f` because the top-left corner of our bounding\n",
    "box for New York county isn't the same as the top-left corner of the full\n",
    "image:\n"
   ]
  },
  {
   "cell_type": "code",
   "execution_count": 0,
   "metadata": {
    "autoscroll": "json-false",
    "collapsed": false,
    "ein.tags": [
     "worksheet-0"
    ]
   },
   "outputs": [],
   "source": [
    "rfa = raster_file.affine\n",
    "ny_affine = Affine(\n",
    "  rfa.a, rfa.b, lon_min,\n",
    "  rfa.d, rfa.e, lat_max\n",
    ")"
   ]
  },
  {
   "cell_type": "markdown",
   "metadata": {
    "ein.tags": [
     "worksheet-0"
    ]
   },
   "source": [
    "Now we can isolate the pixels inside Manhattan using\n",
    "the `rasterio.features.rasterize` function. We can represent this kind of filtered data using a `numpy` masked array whose `mask` is 0 for the relevant data (in our case, within Manhattan), and 1 otherwise. We generate the mask using the `rasterize` function, whose first  argument is an iterable of `(geometry, value)` pairs. It also takes an affine mapping from pixel indices to `(longitude, latitude)` coordinates and an array size, and returns an array with pixel locations within each geometry object set to the corresponding values.\n",
    "\n",
    "\n"
   ]
  },
  {
   "cell_type": "code",
   "execution_count": 0,
   "metadata": {
    "autoscroll": "json-false",
    "collapsed": false,
    "ein.tags": [
     "worksheet-0"
    ]
   },
   "outputs": [],
   "source": [
    "import rasterio.features\n",
    "ny_mask = rasterio.features.rasterize(\n",
    "    shapes=[(ny_shape, 0)],\n",
    "    out_shape=ny_raster_array.shape,\n",
    "    transform=ny_affine,\n",
    "    fill=1,\n",
    "    dtype=np.uint8,\n",
    ")\n",
    "plt.imshow(ny_mask)\n"
   ]
  },
  {
   "cell_type": "markdown",
   "metadata": {
    "ein.tags": [
     "worksheet-0"
    ]
   },
   "source": [
    "Finally using this mask we can work with luminosity data for just Manhattan.\n",
    "For eample, we can re-create our plot of the nighttime lights, zeroing out\n",
    "all the pixels outside Manhattan:\n"
   ]
  },
  {
   "cell_type": "code",
   "execution_count": 0,
   "metadata": {
    "autoscroll": "json-false",
    "collapsed": false,
    "ein.tags": [
     "worksheet-0"
    ]
   },
   "outputs": [],
   "source": [
    "plt.imshow(ny_raster_array * (1 - ny_mask))\n"
   ]
  },
  {
   "cell_type": "markdown",
   "metadata": {
    "ein.tags": [
     "worksheet-0"
    ]
   },
   "source": [
    "Similarly, by making a `numpy` masked array, we can use numpy's masked-data\n",
    "functions to compute statistics about the light distribution in new york\n",
    "county:\n"
   ]
  },
  {
   "cell_type": "code",
   "execution_count": 0,
   "metadata": {
    "autoscroll": "json-false",
    "collapsed": false,
    "ein.tags": [
     "worksheet-0"
    ]
   },
   "outputs": [],
   "source": [
    "ny_masked = np.ma.array(\n",
    "    data=ny_raster_array,\n",
    "    mask=ny_mask.astype(bool)\n",
    ")\n",
    "print 'min: {}'.format(ny_masked.min())\n",
    "print 'max: {}'.format(ny_masked.max())\n",
    "print 'mean: {}'.format(ny_masked.mean())\n",
    "print 'standard deviation: {}'.format(ny_masked.std())\n"
   ]
  }
 ],
 "metadata": {
  "kernelspec": {
   "display_name": "Python 2",
   "language": "python",
   "name": "python2"
  },
  "language_info": {
   "codemirror_mode": {
    "name": "ipython",
    "version": 2
   },
   "file_extension": ".py",
   "mimetype": "text/x-python",
   "name": "python",
   "nbconvert_exporter": "python",
   "pygments_lexer": "ipython2",
   "version": "2.7.10"
  },
  "name": "Geojson and Raster Demo.ipynb"
 },
 "nbformat": 4,
 "nbformat_minor": 0
}