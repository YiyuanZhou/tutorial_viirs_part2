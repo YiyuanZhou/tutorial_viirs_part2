{
 "cells": [
  {
   "cell_type": "code",
   "execution_count": 0,
   "metadata": {
    "autoscroll": "json-false",
    "collapsed": false,
    "ein.tags": [
     "worksheet-0"
    ]
   },
   "outputs": [],
   "source": [
    "%pylab inline"
   ]
  },
  {
   "cell_type": "code",
   "execution_count": 0,
   "metadata": {
    "autoscroll": "json-false",
    "collapsed": false,
    "ein.tags": [
     "worksheet-0"
    ]
   },
   "outputs": [],
   "source": [
    "import os\n",
    "import json\n",
    "import rasterio\n",
    "import rasterio.features\n",
    "import shapely.geometry\n",
    "from affine import Affine\n",
    "\n",
    "RASTER_FILE = os.path.join(\n",
    "    os.path.expanduser('~'), 'bh', 'data', 'satellite',\n",
    "    'SVDNB_npp_20140201-20140228_75N180W_vcmcfg_'\n",
    "    'v10_c201507201052.avg_rade9.tif'\n",
    ")\n",
    "COUNTIES_GEOJSON_FILE = os.path.join(\n",
    "    os.path.expanduser('~'), 'bh', 'data',\n",
    "    'us_counties_5m.json'\n",
    ")\n",
    "STATES_TEXT_FILE = os.path.join(\n",
    "    os.path.expanduser('~'), 'bh', 'data',\n",
    "    'state.txt'\n",
    ")\n"
   ]
  },
  {
   "cell_type": "markdown",
   "metadata": {
    "ein.tags": [
     "worksheet-0"
    ]
   },
   "source": [
    "The geojson file for us counties is just regular json file. It happens to have\n",
    "a non-`utf8` encoding (`latin-1`), so to read it we need to specify the encoding\n",
    "in our call to `json.load`.\n",
    "\n",
    "We obtained our geojson from [Eric Celeste](http://eric.clst.org/Stuff/USGeoJSON)'s\n",
    "awesome website. We use the `5m` counties file, which is geojson for U.S. counties\n",
    "at a resoution of 5 million inches. You can find more information about geojson\n",
    "and shapefiles\n",
    "[here](http://chimera.labs.oreilly.com/books/1230000000345/ch12.html#_choose_a_resolution).\n",
    "\n",
    "\n",
    "In the geojson, the `STATE` property attached to each county is a number rather than a\n",
    "name. So to convert to readable states, we need to be able to translate these integer codes\n",
    "to states. It's actually pretty hard to find a reference on what this mapping is, but it turns\n",
    "out this [census.gov](http://www2.census.gov/geo/docs/reference/state.txt) resource has\n",
    "everything we need, in a pipe-separated file we can read using `pandas`.\n"
   ]
  },
  {
   "cell_type": "code",
   "execution_count": 0,
   "metadata": {
    "autoscroll": "json-false",
    "collapsed": false,
    "ein.tags": [
     "worksheet-0"
    ]
   },
   "outputs": [],
   "source": [
    "with open(COUNTIES_GEOJSON_FILE, 'r') as f:\n",
    "    counties_raw_geojson = json.load(f, 'latin-1')\n",
    "\n",
    "states_df = pd.read_csv(STATES_TEXT_FILE, sep='|').set_index('STATE')\n",
    "# here we're selecting just the state names column from the indexed DataFrame, so that\n",
    "# later in the code we can use it as if it were a dict\n",
    "states = states_df['STATE_NAME']\n"
   ]
  },
  {
   "cell_type": "markdown",
   "metadata": {
    "ein.tags": [
     "worksheet-0"
    ]
   },
   "source": [
    "This top-level geojson object is a `dict` with two keys:\n",
    "* `type`, which specifies that this is a `FeatureCollection`, and\n",
    "* `features`, which is a json array of geojson objects for each county.\n",
    "\n",
    "Since we want to be able to look up counties by name, we'll rearrange this\n",
    "into a dictionary with county names as keys and the geojson objects for each\n",
    "county as values, by looking up the `properties.NAME` and `properties.STATE`\n",
    "key in each county's geojson object (it is important to use the state as well as\n",
    "name because several states have counties with the same name).\n",
    "\n",
    "Note that since there are unicode characters in some counties' names, we\n",
    "have to make sure there's a `u` in front of the formatting string we use,\n",
    "otherwise we get an ascii error.\n"
   ]
  },
  {
   "cell_type": "code",
   "execution_count": 0,
   "metadata": {
    "autoscroll": "json-false",
    "collapsed": false,
    "ein.tags": [
     "worksheet-0"
    ]
   },
   "outputs": [],
   "source": [
    "def get_county_name_from_geo_obj(geo_obj):\n",
    "    \"\"\"\n",
    "    Use the NAME and STATE properties of a county's geojson\n",
    "    object to get a name \"state: county\" for that county.\n",
    "    \"\"\"\n",
    "    return u'{state}: {county}'.format(\n",
    "        state=states[int(geo_obj['properties']['STATE'])],\n",
    "        county=geo_obj['properties']['NAME']\n",
    "    )\n",
    "\n",
    "counties_geojson = {\n",
    "    get_county_name_from_geo_obj(county_geojson): county_geojson\n",
    "    for county_geojson in counties_raw_geojson['features']\n",
    "}\n",
    "\n",
    "print sorted(counties_geojson.keys())[:10]\n"
   ]
  },
  {
   "cell_type": "markdown",
   "metadata": {
    "ein.tags": [
     "worksheet-0"
    ]
   },
   "source": [
    "These geojson objects contain a `properties` subobject with metadata\n",
    "about each county, and a `geometry` object describing the shape of each\n",
    "county. Python's `shapely` package has tools for working with these.\n",
    "\n",
    "If you hand the `geometry` dictionary to `shapely.geometry.shape`, you get back\n",
    "a `MultiPolygon` object that knows how to describe itself. As an extra bonus, it\n",
    "knows how to display itself in an ipython notebook. Let's take a look at\n",
    "Manhattan (which is New York county of New York state):\n"
   ]
  },
  {
   "cell_type": "code",
   "execution_count": 0,
   "metadata": {
    "autoscroll": "json-false",
    "collapsed": false,
    "ein.tags": [
     "worksheet-0"
    ]
   },
   "outputs": [],
   "source": [
    "ny_shape = shapely.geometry.shape(counties_geojson['New York: New York']['geometry'])\n",
    "print '%r' % ny_shape\n",
    "ny_shape\n"
   ]
  },
  {
   "cell_type": "markdown",
   "metadata": {
    "ein.tags": [
     "worksheet-0"
    ]
   },
   "source": [
    "Now we're ready to combine our county geojson with raster data. We'll use the\n",
    "`rasterio` package to work with the `.tif` files we pulled from the noaa.gov website.\n"
   ]
  },
  {
   "cell_type": "code",
   "execution_count": 0,
   "metadata": {
    "autoscroll": "json-false",
    "collapsed": false,
    "ein.tags": [
     "worksheet-0"
    ]
   },
   "outputs": [],
   "source": [
    "raster_file = rasterio.open(RASTER_FILE, 'r')\n"
   ]
  },
  {
   "cell_type": "markdown",
   "metadata": {
    "ein.tags": [
     "worksheet-0"
    ]
   },
   "source": [
    "A rasterio file lets you index raster image data as an array of pixels. The\n",
    "data files are pretty large, but they allow indexing into small slices. Furthermore,\n",
    "raster files include metadata indicating an affine mapping between pixels and\n",
    "latitude / longitude coordinates.\n",
    "\n",
    "Let's try doing this for New York county. We can get the longitude and latitude\n",
    "bounds of the smallest rectangle containing the whole county by using the\n",
    "`bounds` property of the `shapely.geometry.MultiPolygon` instance,\n",
    "which returns `(lon_min, lat_min, lon_max, lat_max)` coordinates:\n"
   ]
  },
  {
   "cell_type": "code",
   "execution_count": 0,
   "metadata": {
    "autoscroll": "json-false",
    "collapsed": false,
    "ein.tags": [
     "worksheet-0"
    ]
   },
   "outputs": [],
   "source": [
    "lon_min, lat_min, lon_max, lat_max = ny_shape.bounds\n",
    "print lon_min, lat_min, lon_max, lat_max\n"
   ]
  },
  {
   "cell_type": "markdown",
   "metadata": {
    "ein.tags": [
     "worksheet-0"
    ]
   },
   "source": [
    "Next, we can use the `index` method of the rasterio file, which accepts\n",
    "`(latitude, longitude)` coordinates and returns `(row, col)` indices for\n",
    "the corresponding pixels. This tells us which part of the raster file we\n",
    "want to slice into.\n",
    "\n",
    "There's a strange catch here that can trip you up: in rasterio files,\n",
    "the first index is for latitude and the second is longitude. So even\n",
    "though the inputs are `(longitude, latitude)`, the `row` output corresponds\n",
    "to latitude and the `col` output corresponds to longitude.\n"
   ]
  },
  {
   "cell_type": "code",
   "execution_count": 0,
   "metadata": {
    "autoscroll": "json-false",
    "collapsed": false,
    "ein.tags": [
     "worksheet-0"
    ]
   },
   "outputs": [],
   "source": [
    "bottom, left = raster_file.index(lon_min, lat_min)\n",
    "top, right = raster_file.index(lon_max, lat_max)\n",
    "\n",
    "raster_window = ((top, bottom+1), (left, right+1))\n",
    "raster_window\n"
   ]
  },
  {
   "cell_type": "markdown",
   "metadata": {
    "ein.tags": [
     "worksheet-0"
    ]
   },
   "source": [
    "Note that we used `(top, bottom)` rather than `(bottom, top)`.\n",
    "The reason, which we will see in more detail later, is that this raster\n",
    "file orders pixels in reverse order of lattitude.\n",
    "\n",
    "Now we're ready to load the pixels themselves. To do this we just\n",
    "pass the window to the `read` method of the raster file, which returns\n",
    "a numpy float-32 array of pixel intensities. We specify `indexes=1` so\n",
    "that we'll get a 2d array rather than a 2d array with size 1 - this is\n",
    "related to more advanced features of the rasterio api that we won't be\n",
    "using here.\n"
   ]
  },
  {
   "cell_type": "code",
   "execution_count": 0,
   "metadata": {
    "autoscroll": "json-false",
    "collapsed": false,
    "ein.tags": [
     "worksheet-0"
    ]
   },
   "outputs": [],
   "source": [
    "ny_raster_array = raster_file.read(indexes=1, window=raster_window)\n",
    "ny_raster_array.shape\n"
   ]
  },
  {
   "cell_type": "markdown",
   "metadata": {
    "ein.tags": [
     "worksheet-0"
    ]
   },
   "source": [
    "The `imshow` function plots a matrix as you would write it on the page,\n",
    "so that the first index runs from top to bottom and the second from left\n",
    "to right. As a result, we can plot our data as is using imshow, and see\n",
    "New York's night lights:\n"
   ]
  },
  {
   "cell_type": "code",
   "execution_count": 0,
   "metadata": {
    "autoscroll": "json-false",
    "collapsed": false,
    "ein.tags": [
     "worksheet-0"
    ]
   },
   "outputs": [],
   "source": [
    "from matplotlib import pyplot as plt\n",
    "plt.imshow(ny_raster_array)\n",
    "plt.show()\n"
   ]
  },
  {
   "cell_type": "markdown",
   "metadata": {
    "ein.tags": [
     "worksheet-0"
    ]
   },
   "source": [
    "This is pretty cool, but we see a lot of light from outside Manhattan,\n",
    "because the entire bounding box shows up in our data. How can we\n",
    "isolate just the data in Manhattan?\n",
    "\n",
    "For this, we will use some more functionality from `shapely`. First,\n",
    "thought, we need to adjust the rasterio file's affine mapping to properly map\n",
    "into the slice of data we are using for our bounding box.\n",
    "\n",
    "To understand how to do this, we need to think about how rasterio represents\n",
    "the mapping between latitude and longitude vs pixels. The `affine` property\n",
    "of the raster file is an `Affine` object:\n"
   ]
  },
  {
   "cell_type": "code",
   "execution_count": 0,
   "metadata": {
    "autoscroll": "json-false",
    "collapsed": false,
    "ein.tags": [
     "worksheet-0"
    ]
   },
   "outputs": [],
   "source": [
    "raster_file.affine\n"
   ]
  },
  {
   "cell_type": "markdown",
   "metadata": {
    "ein.tags": [
     "worksheet-0"
    ]
   },
   "source": [
    "An\n",
    "```\n",
    "Affine(a, b, c,\n",
    "       d, e, f)\n",
    "```\n",
    "instance represents a 2d\n",
    "transformation of the form\n",
    "$$\n",
    "\\begin{pmatrix} x' \\\\ y' \\\\ 1 \\end{pmatrix}\n",
    "=\n",
    "\\begin{pmatrix}\n",
    "a && b && c \\\\\n",
    "d && e && f \\\\\n",
    "0 && 0 && 1\n",
    "\\end{pmatrix}\n",
    "\\begin{pmatrix} x \\\\ y \\\\ 1 \\end{pmatrix}.\n",
    "$$\n",
    "\n",
    "In the context of a rasterio file, the original coordinates $x$ and $y$\n",
    "represent columns and rows for the pixel array, and the affine map $x'$ and $y'$\n",
    "represent the latitude and longitude.\n",
    "\n",
    "The `b` and `d` entries are zero because our image is aligned with the equator\n",
    "and prime meridian. The `a` and `e` coordinates are giving the scalings for\n",
    "latitude and longitude (the negative `e` means we index top to bottom, as we saw\n",
    "earlier), while `c` and `f` give the top-left corner (minimum longitude and\n",
    "maximum latitude) of the image.\n",
    "\n",
    "When we used `raster_file.read` to get a slice of the full image, we didn't\n",
    "alter the rotation or scalings, so `a`, `b`, `d` and `e` don't change. But\n",
    "we need to adjust `c` and `e`, because the top-left corner of our bounding\n",
    "box for New York county isn't the same as the top-left corner of the full\n",
    "image:\n"
   ]
  },
  {
   "cell_type": "code",
   "execution_count": 0,
   "metadata": {
    "autoscroll": "json-false",
    "collapsed": false,
    "ein.tags": [
     "worksheet-0"
    ]
   },
   "outputs": [],
   "source": [
    "rfa = raster_file.affine\n",
    "ny_affine = Affine(\n",
    "  rfa.a, rfa.b, lon_min,\n",
    "  rfa.d, rfa.e, lat_max\n",
    ")"
   ]
  },
  {
   "cell_type": "markdown",
   "metadata": {
    "ein.tags": [
     "worksheet-0"
    ]
   },
   "source": [
    "Now that we have an affine mapping for our slice of the data, we can\n",
    "isolate the pixels that land inside of New York county using\n",
    "the `rasterio.features.rasterize` function.\n",
    "\n",
    "This function takes as its first argument an iterable of `(geometry, value)`\n",
    "pairs. It also takes in an affine mapping from pixel indices to `(longitude,\n",
    "latitude)` coordinates and an array size, and it returns an array where the\n",
    "pixel locations inside of each geometry object have been set to the\n",
    "corresponding value.\n",
    "\n",
    "By passing our `ny_shape` object with the value 0, and setting the default\n",
    "`fill` value (which is what `featurize` uses for pixels that aren't in any\n",
    "of the geometries) to 1, we can obtain a mask array, which is numpy's\n",
    "convention for working with missing -- or in our case, irrelevant -- data.\n",
    "\n",
    "Here we create a mask array `mask`, which is 0 for all pixels inside of\n",
    "New York county and 1 for all pixels outside:\n",
    "\n"
   ]
  },
  {
   "cell_type": "code",
   "execution_count": 0,
   "metadata": {
    "autoscroll": "json-false",
    "collapsed": false,
    "ein.tags": [
     "worksheet-0"
    ]
   },
   "outputs": [],
   "source": [
    "import rasterio.features\n",
    "ny_mask = rasterio.features.rasterize(\n",
    "    shapes=[(ny_shape, 0)],\n",
    "    out_shape=ny_raster_array.shape,\n",
    "    transform=ny_affine,\n",
    "    fill=1,\n",
    "    dtype=np.uint8,\n",
    ")\n",
    "plt.imshow(ny_mask)\n"
   ]
  },
  {
   "cell_type": "markdown",
   "metadata": {
    "ein.tags": [
     "worksheet-0"
    ]
   },
   "source": [
    "Finally using this mask we can work with luminosity data for just Manhattan.\n",
    "For eample, we can re-create our plot of the nighttime lights, zeroing out\n",
    "all the pixels outside Manhattan:\n"
   ]
  },
  {
   "cell_type": "code",
   "execution_count": 0,
   "metadata": {
    "autoscroll": "json-false",
    "collapsed": false,
    "ein.tags": [
     "worksheet-0"
    ]
   },
   "outputs": [],
   "source": [
    "plt.imshow(ny_raster_array * (1 - ny_mask))\n"
   ]
  },
  {
   "cell_type": "markdown",
   "metadata": {
    "ein.tags": [
     "worksheet-0"
    ]
   },
   "source": [
    "Similarly, by making a `numpy` masked array, we can use numpy's masked-data\n",
    "functions to compute statistics about the light distribution in new york\n",
    "county:\n"
   ]
  },
  {
   "cell_type": "code",
   "execution_count": 0,
   "metadata": {
    "autoscroll": "json-false",
    "collapsed": false,
    "ein.tags": [
     "worksheet-0"
    ]
   },
   "outputs": [],
   "source": [
    "ny_masked = np.ma.array(\n",
    "    data=ny_raster_array,\n",
    "    mask=ny_mask.astype(bool)\n",
    ")\n",
    "print 'min: {}'.format(ny_masked.min())\n",
    "print 'max: {}'.format(ny_masked.max())\n",
    "print 'mean: {}'.format(ny_masked.mean())\n",
    "print 'standard deviation: {}'.format(ny_masked.std())\n"
   ]
  }
 ],
 "metadata": {
  "kernelspec": {
   "display_name": "Python 2",
   "language": "python",
   "name": "python2"
  },
  "language_info": {
   "codemirror_mode": {
    "name": "ipython",
    "version": 2
   },
   "file_extension": ".py",
   "mimetype": "text/x-python",
   "name": "python",
   "nbconvert_exporter": "python",
   "pygments_lexer": "ipython2",
   "version": "2.7.11"
  },
  "name": "Geojson and Raster Demo.ipynb"
 },
 "nbformat": 4,
 "nbformat_minor": 0
}